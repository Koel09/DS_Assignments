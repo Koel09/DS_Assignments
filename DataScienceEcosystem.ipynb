{
 "cells": [
  {
   "attachments": {},
   "cell_type": "markdown",
   "id": "ee78d72d-345d-4dd2-9778-dc002164376d",
   "metadata": {},
   "source": [
    "# Data Science Tools and EcosystemvaScript"
   ]
  },
  {
   "cell_type": "markdown",
   "id": "c360233d-3ba0-4822-a5aa-dde82c6e9ca0",
   "metadata": {},
   "source": [
    "## In this notebook, Data Science Tools and Ecosystem are summarized."
   ]
  },
  {
   "cell_type": "markdown",
   "id": "e9d1a07b-a222-4322-b2ed-b43db01eaf1e",
   "metadata": {},
   "source": [
    "**Objectives:**\n",
    "* List popular languages for Data Science\n",
    "* List popular libraries for Data Science\n",
    "* List popular open source tools for Data Science\n",
    "* Evaluating arithmatic expression\n",
    "* Convert 200 mins to hours\n"
   ]
  },
  {
   "cell_type": "markdown",
   "id": "7b5dbbfd-a142-4056-95ea-1c6e5040d336",
   "metadata": {},
   "source": [
    "### Some of the popular languages that Data Scientists use are:\n",
    "1. Python\n",
    "2. SQL\n",
    "3. R\n",
    "4. Julia\n",
    "5. Scala\n",
    "6. JavaScript"
   ]
  },
  {
   "cell_type": "markdown",
   "id": "22049c6c-88c9-41a4-88d5-762d9684d8fc",
   "metadata": {},
   "source": [
    "### Some of the commonly used libraries used by Data Scientists include:\n",
    "1. Matplotlib\n",
    "2. NumPy\n",
    "3. Pandas\n",
    "4. Plotly\n",
    "5. Tensor Flow\n",
    "6. SciPy"
   ]
  },
  {
   "cell_type": "markdown",
   "id": "29c407b3-6829-4c12-ab45-4ea1bbec2257",
   "metadata": {},
   "source": [
    "|Data Science Tools|\n",
    "|------------------|\n",
    "|Jupyter Notebook|\n",
    "|R Studio|\n",
    "|Apache Zeppelin|"
   ]
  },
  {
   "cell_type": "markdown",
   "id": "31db78a1-4e2c-4654-adb9-907dfdef5ffb",
   "metadata": {},
   "source": [
    "### Below are a few examples of evaluating arithmetic expressions in Python\n"
   ]
  },
  {
   "cell_type": "code",
   "execution_count": 2,
   "id": "0f1ac623-3892-4e4b-83a0-c9fa90e03cb7",
   "metadata": {},
   "outputs": [
    {
     "data": {
      "text/plain": [
       "17"
      ]
     },
     "execution_count": 2,
     "metadata": {},
     "output_type": "execute_result"
    }
   ],
   "source": [
    "# This a simple arithmetic expression to mutiply then add integers\n",
    "(3*4)+5"
   ]
  },
  {
   "cell_type": "code",
   "execution_count": 10,
   "id": "a0c7cb21-222b-43f0-8304-a7cea0ea147e",
   "metadata": {},
   "outputs": [
    {
     "name": "stdout",
     "output_type": "stream",
     "text": [
      "200 mins is 3.3 Hrs\n"
     ]
    }
   ],
   "source": [
    "# This will convert 200 minutes to hours by diving by 60\n",
    "Hrs = round((200/60),1)\n",
    "print('200 mins is ' + str(Hrs)+' Hrs')"
   ]
  },
  {
   "cell_type": "markdown",
   "id": "771c0886-e271-492e-87da-0fee07b279a2",
   "metadata": {},
   "source": [
    "## Author\n",
    "Koel Biswas"
   ]
  },
  {
   "cell_type": "code",
   "execution_count": null,
   "id": "eac97c57-551a-4679-8f5e-b9149822028f",
   "metadata": {},
   "outputs": [],
   "source": []
  }
 ],
 "metadata": {
  "kernelspec": {
   "display_name": "Python 3 (ipykernel)",
   "language": "python",
   "name": "python3"
  },
  "language_info": {
   "codemirror_mode": {
    "name": "ipython",
    "version": 3
   },
   "file_extension": ".py",
   "mimetype": "text/x-python",
   "name": "python",
   "nbconvert_exporter": "python",
   "pygments_lexer": "ipython3",
   "version": "3.11.8"
  }
 },
 "nbformat": 4,
 "nbformat_minor": 5
}
